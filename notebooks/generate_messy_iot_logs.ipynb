{
 "cells": [
  {
   "cell_type": "code",
   "execution_count": 3,
   "id": "3376583c-4397-4248-9de3-7dadd2ae08d0",
   "metadata": {},
   "outputs": [
    {
     "name": "stdout",
     "output_type": "stream",
     "text": [
      "✅ Messy IoT sensor logs dataset created and saved as 'iot_sensor_data_messy.csv'\n"
     ]
    }
   ],
   "source": [
    "import pandas as pd\n",
    "import numpy as np\n",
    "import random\n",
    "\n",
    "# Set seeds\n",
    "np.random.seed(42)\n",
    "random.seed(42)\n",
    "\n",
    "# Parameters\n",
    "num_rows = 100000\n",
    "experiment_ids = np.random.randint(1, 50001, size=num_rows)\n",
    "sensors = [\"Temp_Sensor_1\", \"Temp_Sensor_2\", \"Pressure_Sensor\", \"Flow_Sensor\", \"pH_Sensor\"]\n",
    "units_all = [\"Celsius\", \"Kelvin\", \"atm\", \"kPa\", \"L/min\", \"mL/s\", \"pH\", \"pH_units\"]\n",
    "\n",
    "# Create timestamps, allowing some out-of-order and future dates\n",
    "timestamps = pd.date_range(start=\"2023-01-01\", periods=90000, freq=\"min\").tolist()\n",
    "extra_times = pd.date_range(start=\"2028-01-01\", periods=10000, freq=\"min\").tolist()\n",
    "all_times = timestamps + extra_times\n",
    "random.shuffle(all_times)\n",
    "all_times = np.random.choice(all_times, size=num_rows)\n",
    "\n",
    "# Simulate readings, some as strings, some missing\n",
    "readings = np.random.uniform(0.1, 100, size=num_rows).round(3)\n",
    "reading_strings = readings.astype(str)\n",
    "mask_strings = np.random.choice([True, False], size=num_rows, p=[0.05, 0.95])\n",
    "reading_values = [str(val) if string_flag else val for val, string_flag in zip(readings, mask_strings)]\n",
    "\n",
    "# Introduce missing values and outliers\n",
    "sensor_ids = np.random.choice(sensors + [np.nan], size=num_rows, p=[0.19, 0.19, 0.19, 0.19, 0.19, 0.05])\n",
    "units = np.random.choice(units_all, size=num_rows)\n",
    "\n",
    "# Add some outlier readings\n",
    "outlier_indices = np.random.choice(range(num_rows), size=50, replace=False)\n",
    "for idx in outlier_indices:\n",
    "    reading_values[idx] = -9999\n",
    "\n",
    "# Create DataFrame\n",
    "iot_sensor_data_messy = pd.DataFrame({\n",
    "    \"timestamp\": all_times,\n",
    "    \"sensor_id\": sensor_ids,\n",
    "    \"experiment_id\": experiment_ids,\n",
    "    \"reading_value\": reading_values,\n",
    "    \"unit\": units\n",
    "})\n",
    "\n",
    "# Duplicate some rows to simulate redundancy\n",
    "duplicates = iot_sensor_data_messy.sample(500, random_state=1)\n",
    "iot_sensor_data_messy = pd.concat([iot_sensor_data_messy, duplicates], ignore_index=True)\n",
    "\n",
    "# Shuffle rows\n",
    "iot_sensor_data_messy = iot_sensor_data_messy.sample(frac=1).reset_index(drop=True)\n",
    "\n",
    "# Save to CSV\n",
    "iot_sensor_data_messy.to_csv(\"iot_sensor_data_messy.csv\", index=False)\n",
    "print(\"✅ Messy IoT sensor logs dataset created and saved as 'iot_sensor_data_messy.csv'\")"
   ]
  },
  {
   "cell_type": "code",
   "execution_count": null,
   "id": "c52cb041-89f8-4d93-aa82-bdb691ef12f7",
   "metadata": {},
   "outputs": [],
   "source": []
  }
 ],
 "metadata": {
  "kernelspec": {
   "display_name": "Python 3 (ipykernel)",
   "language": "python",
   "name": "python3"
  },
  "language_info": {
   "codemirror_mode": {
    "name": "ipython",
    "version": 3
   },
   "file_extension": ".py",
   "mimetype": "text/x-python",
   "name": "python",
   "nbconvert_exporter": "python",
   "pygments_lexer": "ipython3",
   "version": "3.10.14"
  }
 },
 "nbformat": 4,
 "nbformat_minor": 5
}
