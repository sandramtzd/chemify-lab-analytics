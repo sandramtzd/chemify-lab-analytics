{
 "cells": [
  {
   "cell_type": "code",
   "execution_count": 3,
   "id": "406c7f2e-95ac-4242-bdc2-8c4a4f63803a",
   "metadata": {},
   "outputs": [
    {
     "name": "stdout",
     "output_type": "stream",
     "text": [
      "✅ Messy procurement dataset created and saved.\n"
     ]
    }
   ],
   "source": [
    "import pandas as pd\n",
    "import numpy as np\n",
    "import random\n",
    "\n",
    "# Reproducibility\n",
    "np.random.seed(42)\n",
    "random.seed(42)\n",
    "\n",
    "# Setup\n",
    "suppliers = [\"Supplier X\", \"Supplier Y\", \"Supplier Z\", \"Supplier A\", \"Supplier B\"]\n",
    "chemicals = [\"Solvent A\", \"Solvent B\", \"Catalyst C\", \"Reactant D\", \"Buffer E\"]\n",
    "n_rows = 20000\n",
    "\n",
    "# Create base dataframe\n",
    "procurement_data = pd.DataFrame({\n",
    "    \"order_id\": range(1, n_rows + 1),\n",
    "    \"chemical_ordered\": np.random.choice(chemicals, size=n_rows),\n",
    "    \"supplier\": np.random.choice(suppliers, size=n_rows),\n",
    "    \"quantity_ordered\": np.random.uniform(100, 5000, size=n_rows).round(2),\n",
    "    \"cost_usd\": np.random.uniform(50, 5000, size=n_rows).round(2),\n",
    "    \"order_date\": pd.date_range(start=\"2023-01-01\", periods=n_rows, freq=\"h\").astype(str)\n",
    "})\n",
    "\n",
    "# Change column types to object so we can safely insert strings/NaNs later\n",
    "procurement_data[\"quantity_ordered\"] = procurement_data[\"quantity_ordered\"].astype(\"object\")\n",
    "procurement_data[\"cost_usd\"] = procurement_data[\"cost_usd\"].astype(\"object\")\n",
    "\n",
    "# 1. Unit inconsistencies (e.g., '2.5 kg')\n",
    "unit_indices = np.random.choice(procurement_data.index, size=2000, replace=False)\n",
    "procurement_data.loc[unit_indices, \"quantity_ordered\"] = (\n",
    "    (pd.to_numeric(procurement_data.loc[unit_indices, \"quantity_ordered\"]) / 1000).round(2).astype(str) + \" kg\"\n",
    ")\n",
    "\n",
    "# 2. Insert missing values\n",
    "for col in [\"quantity_ordered\", \"cost_usd\"]:\n",
    "    procurement_data.loc[np.random.choice(procurement_data.index, 300, replace=False), col] = np.nan\n",
    "\n",
    "# 3. Add invalid cost values\n",
    "procurement_data.loc[random.sample(list(procurement_data.index), 100), \"cost_usd\"] = -50\n",
    "procurement_data.loc[random.sample(list(procurement_data.index), 50), \"cost_usd\"] = \"unknown\"\n",
    "procurement_data.loc[random.sample(list(procurement_data.index), 30), \"cost_usd\"] = 999999\n",
    "\n",
    "# 4. Inconsistent order dates\n",
    "date_formats = [\n",
    "    lambda d: d,\n",
    "    lambda d: pd.to_datetime(d).strftime(\"%d/%m/%Y\"),\n",
    "    lambda d: pd.to_datetime(d).strftime(\"%b %d, %Y\"),\n",
    "    lambda d: None\n",
    "]\n",
    "procurement_data[\"order_date\"] = procurement_data[\"order_date\"].apply(lambda d: random.choice(date_formats)(d))\n",
    "\n",
    "# 5. Add duplicate rows\n",
    "duplicates = procurement_data.sample(n=300)\n",
    "procurement_data = pd.concat([procurement_data, duplicates], ignore_index=True)\n",
    "\n",
    "# Save\n",
    "procurement_data.to_csv(\"procurement_cost_reports_messy.csv\", index=False)\n",
    "print(\"✅ Messy procurement dataset created and saved.\")"
   ]
  },
  {
   "cell_type": "code",
   "execution_count": null,
   "id": "09895f58-eced-44e9-a7cd-f7ad626fd0e7",
   "metadata": {},
   "outputs": [],
   "source": []
  }
 ],
 "metadata": {
  "kernelspec": {
   "display_name": "Python 3 (ipykernel)",
   "language": "python",
   "name": "python3"
  },
  "language_info": {
   "codemirror_mode": {
    "name": "ipython",
    "version": 3
   },
   "file_extension": ".py",
   "mimetype": "text/x-python",
   "name": "python",
   "nbconvert_exporter": "python",
   "pygments_lexer": "ipython3",
   "version": "3.10.14"
  }
 },
 "nbformat": 4,
 "nbformat_minor": 5
}
