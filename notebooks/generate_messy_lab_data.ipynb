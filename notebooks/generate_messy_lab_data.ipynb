{
 "cells": [
  {
   "cell_type": "code",
   "execution_count": 1,
   "id": "7e52f6aa-23ec-4b6f-a48d-5e234b256cc3",
   "metadata": {},
   "outputs": [
    {
     "name": "stdout",
     "output_type": "stream",
     "text": [
      "✅ Messy lab notebook dataset created and saved as 'lab_notebook_data_messy.csv'\n"
     ]
    }
   ],
   "source": [
    "import pandas as pd\n",
    "import numpy as np\n",
    "import random\n",
    "\n",
    "# Set random seed\n",
    "np.random.seed(42)\n",
    "random.seed(42)\n",
    "\n",
    "# Base values\n",
    "num_rows = 50000\n",
    "experiment_ids = range(1, num_rows + 1)\n",
    "chemicals = [\"Solvent A\", \"Solvent B\", \"Catalyst C\", \"Reactant D\", \"Buffer E\"]\n",
    "researchers = [\"Sandra\", \"Lea\", \"Marion\", \"Joseph\", \"Ernest\"]\n",
    "statuses = [\"Success\", \"Failure\", \"Partial Success\"]\n",
    "\n",
    "# Simulate inconsistent units (grams and milligrams)\n",
    "quantities = np.random.uniform(0.1, 50, size=num_rows)\n",
    "unit_choices = np.random.choice(['g', 'mg'], size=num_rows, p=[0.9, 0.1])\n",
    "quantity_column = [q * 1000 if u == 'mg' else q for q, u in zip(quantities, unit_choices)]\n",
    "\n",
    "# Simulate inconsistent temperature formats (°C and °F)\n",
    "temperatures_C = np.random.uniform(20, 200, size=num_rows)\n",
    "temp_units = np.random.choice(['C', 'F'], size=num_rows, p=[0.85, 0.15])\n",
    "temperature_column = [\n",
    "    t * 1.8 + 32 if u == 'F' else t for t, u in zip(temperatures_C, temp_units)\n",
    "]\n",
    "\n",
    "# Time inconsistencies: some in minutes, some in hours\n",
    "reaction_time = np.random.randint(5, 300, size=num_rows)\n",
    "time_units = np.random.choice(['min', 'hr'], size=num_rows, p=[0.9, 0.1])\n",
    "reaction_time_column = [\n",
    "    t * 60 if u == 'hr' else t for t, u in zip(reaction_time, time_units)\n",
    "]\n",
    "\n",
    "# Introduce missing values randomly in catalyst and success_status\n",
    "chemicals_with_nans = np.random.choice(chemicals + [np.nan], size=num_rows, p=[0.18, 0.18, 0.18, 0.18, 0.18, 0.1])\n",
    "statuses_with_nans = np.random.choice(statuses + [np.nan], size=num_rows, p=[0.3, 0.3, 0.3, 0.1])\n",
    "\n",
    "# Create DataFrame\n",
    "lab_data_messy = pd.DataFrame({\n",
    "    \"experiment_id\": experiment_ids,\n",
    "    \"researcher\": np.random.choice(researchers, size=num_rows),\n",
    "    \"chemical_used\": chemicals_with_nans,\n",
    "    \"quantity\": quantity_column,\n",
    "    \"quantity_unit\": unit_choices,\n",
    "    \"temperature\": temperature_column,\n",
    "    \"temperature_unit\": temp_units,\n",
    "    \"pressure_atm\": np.random.uniform(0.5, 10, size=num_rows).round(2),\n",
    "    \"reaction_time\": reaction_time_column,\n",
    "    \"reaction_time_unit\": time_units,\n",
    "    \"success_status\": statuses_with_nans\n",
    "})\n",
    "\n",
    "# Introduce some success rate outliers (optional)\n",
    "outlier_indices = np.random.choice(lab_data_messy.index, size=30, replace=False)\n",
    "lab_data_messy.loc[outlier_indices, \"reaction_time\"] = -999\n",
    "\n",
    "# Save to CSV\n",
    "lab_data_messy.to_csv(\"lab_notebook_data_messy.csv\", index=False)\n",
    "print(\"✅ Messy lab notebook dataset created and saved as 'lab_notebook_data_messy.csv'\")"
   ]
  }
 ],
 "metadata": {
  "kernelspec": {
   "display_name": "Python 3 (ipykernel)",
   "language": "python",
   "name": "python3"
  },
  "language_info": {
   "codemirror_mode": {
    "name": "ipython",
    "version": 3
   },
   "file_extension": ".py",
   "mimetype": "text/x-python",
   "name": "python",
   "nbconvert_exporter": "python",
   "pygments_lexer": "ipython3",
   "version": "3.10.14"
  }
 },
 "nbformat": 4,
 "nbformat_minor": 5
}
